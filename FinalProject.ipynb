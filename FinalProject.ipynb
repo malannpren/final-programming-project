{
 "cells": [
  {
   "cell_type": "code",
   "execution_count": 24,
   "metadata": {},
   "outputs": [],
   "source": [
    "import geopandas as gpd\n",
    "import pandas as pd\n",
    "import rasterio as raster\n",
    "import random\n",
    "from shapely.geometry import Point\n",
    "import fiona\n",
    "from csv import reader"
   ]
  },
  {
   "cell_type": "code",
   "execution_count": 12,
   "metadata": {},
   "outputs": [],
   "source": [
    "#data = r\"C:\\Users\\16144\\OneDrive - The University of Colorado Denver\\Semester 3\\Programming\\final_Project\\AcresTotalsCounty20122017.csv\""
   ]
  },
  {
   "cell_type": "code",
   "execution_count": 20,
   "metadata": {},
   "outputs": [],
   "source": [
    "AcresTable = pd.read_csv(r\"C:\\Users\\16144\\OneDrive - The University of Colorado Denver\\Semester 3\\Programming\\final_Project\\AcresTotalsCounty20122017.csv\")\n",
    "Ag2012 = []\n",
    "Ag2017 = []\n",
    "random.seed(0)\n",
    "for row in AcresTable:\n",
    "    if 'AcresHarv2012' in row:\n",
    "        Ag2012.append(row)\n",
    "    if 'AcresHarv2017' in row:\n",
    "        Ag2017.append(row)\n"
   ]
  },
  {
   "cell_type": "code",
   "execution_count": 23,
   "metadata": {},
   "outputs": [
    {
     "data": {
      "text/plain": [
       "['AcresHarv2012']"
      ]
     },
     "execution_count": 23,
     "metadata": {},
     "output_type": "execute_result"
    }
   ],
   "source": [
    "Ag2012"
   ]
  },
  {
   "cell_type": "code",
   "execution_count": 25,
   "metadata": {},
   "outputs": [
    {
     "name": "stdout",
     "output_type": "stream",
     "text": [
      "[['adams', 353.0, 249061.0, '384', '283,538'], ['alamosa', 165.0, 46716.0, '149', '59432'], ['arapahoe', 158.0, 54939.0, '206', '44558'], ['archuleta', 176.0, 8934.0, '151', '8124'], ['baca', 116.0, 60638.0, '89', '44643'], ['bent', 97.0, 27459.0, '80', '33572'], ['boulder', 533.0, 30123.0, '704', '28868'], ['broomfield', 20.0, nan, '17', '2221'], ['chaffee', 113.0, 10831.0, '154', '12419'], ['cheyenne', 181.0, 244961.0, '200', '308850'], ['clearcreek', 7.0, nan, '19', '454'], ['conejos', 456.0, 82952.0, '388', '103574'], ['costilla', 159.0, 29085.0, '166', '31267'], ['crowley', 41.0, 4721.0, '53', '4052'], ['custer', 77.0, 15375.0, '110', '20527'], ['delta', 989.0, 44114.0, '1,198', '49214'], ['denver', 5.0, nan, '7', nan], ['dolores', 101.0, 24651.0, '111', '31048'], ['douglas', 228.0, 8074.0, '305', '12,371'], ['eagle', 88.0, 9585.0, '170', '12404'], ['elpaso', 150.0, 11166.0, '232', '18121'], ['elbert', 224.0, 59520.0, '408', '77935'], ['fremont', 407.0, 7873.0, '565', '9668'], ['garfield', 376.0, 25102.0, '421', '41885'], ['gilpin', 4.0, nan, '8', '145'], ['grand', 124.0, 30548.0, '156', '30952'], ['gunnison', 142.0, 33921.0, '179', '41202'], ['hinsdale', 7.0, 407.0, '15', '947'], ['huerfano', 134.0, 9344.0, '150', '9152'], ['jackson', 58.0, 51885.0, '73', '61097'], ['jefferson', 171.0, 6233.0, '228', '3362'], ['kiowa', 165.0, 248307.0, '167', nan], ['kitcarson', 349.0, 398644.0, '317', '497533'], ['laplata', 654.0, 39908.0, '634', '39672'], ['lake', 7.0, 459.0, '8', '530'], ['larimer', 706.0, 68189.0, '1,007', '66092'], ['lasanimas', 195.0, 16143.0, '210', '25713'], ['lincoln', 178.0, 222391.0, '184', nan], ['logan', 522.0, 266884.0, '471', '338105'], ['mesa', 1574.0, 58311.0, '1,750', '50065'], ['mineral', 3.0, 540.0, '4', nan], ['moffat', 167.0, 33697.0, '227', '48941'], ['montezuma', 653.0, 60617.0, '620', '76013'], ['montrose', 794.0, 56464.0, '754', '45940'], ['morgan', 417.0, 171272.0, '407', '207058'], ['otero', 259.0, 47269.0, '234', '50652'], ['ouray', 55.0, 7000.0, '53', '7883'], ['park', 48.0, 3570.0, '75', '6934'], ['phillips', 222.0, 236894.0, '224', '248339'], ['pitkin', 54.0, 3791.0, '61', '4555'], ['prowers', 267.0, 205301.0, '249', '86112'], ['pueblo', 266.0, 16020.0, '271', '19147'], ['rioblanco', 171.0, 23374.0, '193', '29221'], ['riogrande', 262.0, 84934.0, '228', '84274'], ['routt', 255.0, 34301.0, '613', '47525'], ['saguache', 154.0, 80371.0, '157', '99231'], ['sanjuan', nan, nan, nan, nan], ['sanmiguel', 54.0, 5043.0, '50', '5737'], ['sedgwick', 158.0, 131355.0, '164', '165060'], ['summit', 22.0, 3665.0, '24', '4082'], ['teller', 25.0, nan, '39', '1884'], ['washington', 410.0, 327098.0, '390', '473869'], ['weld', 1636.0, 426823.0, '1,853', '477839'], ['yuma', 398.0, 364045.0, '365', '390328']]\n"
     ]
    }
   ],
   "source": [
    "# Create a dataframe from csv\n",
    "df = pd.read_csv('AcresTotalsCounty20122017.csv', delimiter=',')\n",
    "# User list comprehension to create a list of lists from Dataframe rows\n",
    "list_of_rows = [list(row) for row in df.values]\n",
    "# Print list of lists i.e. rows\n",
    "print(list_of_rows)"
   ]
  }
 ],
 "metadata": {
  "kernelspec": {
   "display_name": "Python 3",
   "language": "python",
   "name": "python3"
  },
  "language_info": {
   "codemirror_mode": {
    "name": "ipython",
    "version": 3
   },
   "file_extension": ".py",
   "mimetype": "text/x-python",
   "name": "python",
   "nbconvert_exporter": "python",
   "pygments_lexer": "ipython3",
   "version": "3.7.8"
  }
 },
 "nbformat": 4,
 "nbformat_minor": 4
}
