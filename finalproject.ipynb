{
 "cells": [
  {
   "cell_type": "code",
   "execution_count": 27,
   "metadata": {},
   "outputs": [],
   "source": [
    "import geopandas as gpd\n",
    "import pandas as pd\n",
    "import random\n",
    "import fiona\n",
    "import matplotlib\n",
    "import matplotlib.pyplot as plt"
   ]
  },
  {
   "cell_type": "code",
   "execution_count": 3,
   "metadata": {},
   "outputs": [],
   "source": [
    "AcresTable = pd.read_csv(r\"C:\\Users\\catan\\Desktop\\programming final\\AcresTotalsCounty20122017.csv\")\n",
    "Ag2012 = []\n",
    "Ag2017 = []\n",
    "random.seed(0)\n",
    "for row in AcresTable:\n",
    "    if 'AcresHarv2012' in row:\n",
    "        Ag2012.append(row)\n",
    "    if 'AcresHarv2017' in row:\n",
    "        Ag2017.append(row)\n",
    "\n",
    "colnames = ['county','NumOperations2012','AcresHarv2012', 'NumOperations2017', 'AcresHarv2017']\n",
    "#data = pd.read_csv('AcresTotalsCounty20122017.csv', names=colnames)\n",
    "\n",
    "col_list2012 = [\"county\", \"AcresHarv2012\"]\n",
    "colorado2012 = pd.read_csv(r\"C:\\Users\\catan\\Desktop\\programming final\\AcresTotalsCounty20122017.csv\", usecols=col_list2012)\n",
    "col_list2017 = [\"county\", \"AcresHarv2017\"]\n",
    "colorado2017 = pd.read_csv(r\"C:\\Users\\catan\\Desktop\\programming final\\AcresTotalsCounty20122017.csv\", usecols = col_list2017)\n",
    "\n",
    "top2012 = []\n",
    "top2017 = []\n",
    "top5 = ['adams', 'kitcarson', 'yuma', 'weld', 'phillips']\n",
    "for row in colorado2012.iterrows():\n",
    "    if 'county' == top5:\n",
    "        top2012.append(row)"
   ]
  },
  {
   "cell_type": "code",
   "execution_count": 4,
   "metadata": {},
   "outputs": [],
   "source": [
    "datatable = {'county': [], 'AcresHarv2012': [], 'AcresHarv2017': []}\n",
    "#df = pd.DataFrame(columns = ['county', 'AcresHarv2012', 'AcresHarv2017'])\n",
    "\n",
    "from csv import DictReader\n",
    "Names = [\"yuma\", \"weld\", \"phillips\", \"kitcarson\", \"adams\"]\n",
    "\n",
    "with open(r\"C:\\Users\\catan\\Desktop\\programming final\\AcresTotalsCounty20122017.csv\", newline='') as csvfile:\n",
    "    reader = DictReader(csvfile)\n",
    "    #rows = [row for row in reader if row['county'] in Names]\n",
    "    \n",
    "    for row in reader:\n",
    "        if row['county'] in Names:\n",
    "            county = row['county']\n",
    "            AcresHarv2012 = int(row['AcresHarv2012'])\n",
    "            AcresHarv2017 = int(row['AcresHarv2017'])\n",
    "            \n",
    "            datatable['county'].append(county)\n",
    "            datatable['AcresHarv2012'].append(AcresHarv2012)\n",
    "            datatable['AcresHarv2017'].append(AcresHarv2017)\n",
    "    \n",
    "HarvGdf = gpd.GeoDataFrame(datatable)\n",
    "    "
   ]
  },
  {
   "cell_type": "code",
   "execution_count": 5,
   "metadata": {},
   "outputs": [],
   "source": [
    "# precipitation join\n",
    "\n",
    "cty2012prcp = pd.read_csv(r\"C:\\Users\\catan\\Desktop\\programming final\\cty2012prcp.csv\")\n",
    "cty2017prcp = pd.read_csv(r\"C:\\Users\\catan\\Desktop\\programming final\\cty2017prcp.csv\")\n",
    "\n",
    "prcp_join = cty2012prcp.merge(cty2017prcp, on='county')"
   ]
  },
  {
   "cell_type": "code",
   "execution_count": 6,
   "metadata": {},
   "outputs": [],
   "source": [
    "# joining precipitation and harvest data\n",
    "\n",
    "all_data = prcp_join.merge(HarvGdf, on='county')"
   ]
  },
  {
   "cell_type": "code",
   "execution_count": 7,
   "metadata": {},
   "outputs": [],
   "source": [
    "# creating percent change columns\n",
    "\n",
    "all_data['prcp_change'] = ((all_data['avg_prcp2017'] - all_data['avg_prcp2012']) / all_data['avg_prcp2012']) * 100\n",
    "all_data['harv_change'] = ((all_data['AcresHarv2017'] - all_data['AcresHarv2012']) / all_data['AcresHarv2012']) * 100"
   ]
  },
  {
   "cell_type": "code",
   "execution_count": null,
   "metadata": {},
   "outputs": [],
   "source": [
    "def perc_change (x,y):\n",
    "    # this function calculates percent change between two variables\n",
    "\n",
    "    "
   ]
  },
  {
   "cell_type": "code",
   "execution_count": 9,
   "metadata": {},
   "outputs": [],
   "source": [
    "# exporting final table to csv\n",
    "\n",
    "all_data.to_csv(r\"C:\\Users\\catan\\Documents\\GitHub\\final-programming-project\\final_proj.csv\", index = False)"
   ]
  },
  {
   "cell_type": "code",
   "execution_count": 10,
   "metadata": {},
   "outputs": [
    {
     "output_type": "stream",
     "name": "stdout",
     "text": [
      "The county with the largest precipitation change is Yuma. The county with the largest acres harvest change is Kit Carson.\n"
     ]
    }
   ],
   "source": [
    "# concluding print statement\n",
    "\n",
    "print(\"The county with the largest precipitation change is Yuma. The county with the largest acres harvest change is Kit Carson.\")"
   ]
  },
  {
   "cell_type": "code",
   "execution_count": 33,
   "metadata": {},
   "outputs": [
    {
     "output_type": "error",
     "ename": "SyntaxError",
     "evalue": "invalid syntax (<ipython-input-33-4865cfc52a12>, line 3)",
     "traceback": [
      "\u001b[1;36m  File \u001b[1;32m\"<ipython-input-33-4865cfc52a12>\"\u001b[1;36m, line \u001b[1;32m3\u001b[0m\n\u001b[1;33m    fp = r\"C:\\Users\\catan\\Documents\\GitHub\\final-programming-project\\Colorado_County_Boundaries1.shp\", SHAPE_RESTORE_SHX=YES fiona.info Colorado_County_Boundaries1.shp\u001b[0m\n\u001b[1;37m                                                                                                                                 ^\u001b[0m\n\u001b[1;31mSyntaxError\u001b[0m\u001b[1;31m:\u001b[0m invalid syntax\n"
     ]
    }
   ],
   "source": [
    "# map creation\n",
    "\n",
    "fp = r\"C:\\Users\\catan\\Documents\\GitHub\\final-programming-project\\Colorado_County_Boundaries1.shp\", SHAPE_RESTORE_SHX=YES fiona.info Colorado_County_Boundaries1.shp\n",
    "map_df = gpd.read_file(fp)\n",
    "map_df['COUNTY'] = map_df['COUNTY'].str.lower()\n",
    "df = pd.read_csv(r\"C:\\Users\\catan\\Documents\\GitHub\\final-programming-project\\final_proj.csv\", header=0)\n",
    "merged = map_df.set_index('COUNTY').join(df.set_index('county'))\n",
    "merged = map_df.merge(df, left_on='COUNTY', right_on='county')\n",
    "variable = merged['prcp_change']\n",
    "vmin, vmax = 0, 100\n",
    "fig, ax = plt.subplots(1, figsize = (10,6))\n",
    "merged.plot(column = variable, cmap = 'twilight', linewidth = 0.8, ax = ax, edgecolor = '0.8')\n",
    "print(merged)\n",
    "ax.axis('off')\n",
    "ax.set_title('Colorado Counties Precipitation Change from 2012 to 2017', fontdict={'fontsize': '25', 'fontweight' : '3'})\n",
    "ax.annotate('Data source: Colorado State University, Warner College; USDA', xy=(0.1, .08),  xycoords='figure fraction', horizontalalignment='left', verticalalignment='top', fontsize=12, color='#555555')\n",
    "ax.annotate('Created by Hannah Shook, Mallory Prentiss, and Rachel Tarbet', xy=(0.1, .12),  xycoords='figure fraction', horizontalalignment='left', verticalalignment='top', fontsize=12, color='#555555')\n",
    "\n",
    "sm = plt.cm.ScalarMappable(cmap='twilight', norm=plt.Normalize(vmin=vmin, vmax=vmax))\n",
    "sm._A = []\n",
    "plt.colorbar(sm,fraction=0.046, pad=0.0000001)\n",
    "\n",
    "fig.savefig(r'C:\\Users\\catan\\Desktop\\programming final\\map_export.png', dpi=300)\n",
    "\n"
   ]
  },
  {
   "cell_type": "code",
   "execution_count": null,
   "metadata": {},
   "outputs": [],
   "source": []
  }
 ],
 "metadata": {
  "kernelspec": {
   "display_name": "Python 3",
   "language": "python",
   "name": "python3"
  },
  "language_info": {
   "codemirror_mode": {
    "name": "ipython",
    "version": 3
   },
   "file_extension": ".py",
   "mimetype": "text/x-python",
   "name": "python",
   "nbconvert_exporter": "python",
   "pygments_lexer": "ipython3",
   "version": "3.7.7-final"
  }
 },
 "nbformat": 4,
 "nbformat_minor": 4
}